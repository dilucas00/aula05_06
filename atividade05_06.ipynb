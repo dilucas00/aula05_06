{
 "cells": [
  {
   "cell_type": "code",
   "execution_count": 8,
   "metadata": {},
   "outputs": [
    {
     "name": "stdout",
     "output_type": "stream",
     "text": [
      "Numero 1\n",
      "Numero 2\n",
      "Numero 3\n",
      "Numero 4\n",
      "Numero 5\n"
     ]
    }
   ],
   "source": [
    "def funcaoleitura():\n",
    "    for num in range (5):\n",
    "        print(\"Numero\", num+1)\n",
    "funcaoleitura()"
   ]
  },
  {
   "cell_type": "code",
   "execution_count": 15,
   "metadata": {},
   "outputs": [
    {
     "name": "stdout",
     "output_type": "stream",
     "text": [
      "Número 1\n",
      "Número 2\n",
      "Número 3\n",
      "Número 4\n",
      "Número 5\n",
      "Número 6\n"
     ]
    }
   ],
   "source": [
    "def funcaoleitura():\n",
    "    for num in [1,2,3,4,5,6]:\n",
    "        print(\"Número\", num)\n",
    "funcaoleitura()\n",
    "\n"
   ]
  },
  {
   "cell_type": "code",
   "execution_count": 9,
   "metadata": {},
   "outputs": [
    {
     "name": "stdout",
     "output_type": "stream",
     "text": [
      "O primeiro número é:  485\n",
      "O segundo número é:  45\n",
      "A soma do número é:  530\n"
     ]
    }
   ],
   "source": [
    "\n",
    "def addnum(n1, n2): #n1 e n2 são parametros\n",
    "    print(\"O primeiro número é: \", n1)\n",
    "    print(\"O segundo número é: \", n2)\n",
    "    print(\"A soma do número é: \", n1+n2)\n",
    "addnum(485,45) #Quando a função foi chamada, foi adicionado os parametros para comtemplar o n1 e n2 (Parametros)\n"
   ]
  },
  {
   "cell_type": "code",
   "execution_count": 16,
   "metadata": {},
   "outputs": [
    {
     "name": "stdout",
     "output_type": "stream",
     "text": [
      "Variavel da função multiplica 20\n",
      "10\n"
     ]
    }
   ],
   "source": [
    "varGlobal = 10 # Essa é uma variavel global, ela existe independente da função, fora da função\n",
    "def multiplicacao(num1, num2):\n",
    "    varGlobal = (num1 * num2)\n",
    "    print(\"Variavel da função multiplica\", varGlobal)\n",
    "multiplicacao(5,4)\n",
    "print(varGlobal)\n",
    "    "
   ]
  },
  {
   "cell_type": "code",
   "execution_count": 24,
   "metadata": {},
   "outputs": [
    {
     "name": "stdout",
     "output_type": "stream",
     "text": [
      "Variavel da função multiplica: 20\n",
      "20\n"
     ]
    }
   ],
   "source": [
    "varGlobal = 10 # Essa é uma variavel global, ela existe independente da função, fora da função\n",
    "def multiplica(num1, num2):\n",
    "    varLocal = num1 * num2 # Essa variavel existe apenas dentro da função\n",
    "    print(\"Variavel da função multiplica:\", varLocal)\n",
    "    print(varLocal)\n",
    "multiplica(5,4)\n",
    "# print(varLocal) / Não ira funcionar ja que a varLocal so existe dentro da função, como o print foi chamado fora da função não vai funcionar\n"
   ]
  },
  {
   "cell_type": "code",
   "execution_count": 28,
   "metadata": {},
   "outputs": [
    {
     "data": {
      "text/plain": [
       "['Lionel', 'Andrés', 'Messi', 'Cucittinni']"
      ]
     },
     "execution_count": 28,
     "metadata": {},
     "output_type": "execute_result"
    }
   ],
   "source": [
    "def separarTexto(texto):\n",
    "    return texto.split()\n",
    "separarTexto(\"Lionel Andrés Messi Cucittinni\")"
   ]
  },
  {
   "cell_type": "code",
   "execution_count": 40,
   "metadata": {},
   "outputs": [
    {
     "name": "stdout",
     "output_type": "stream",
     "text": [
      "Parâmetro 1 ° Messi\n",
      "Parâmetro 2 ° Pele\n",
      "Parâmetro 3 ° Cr7\n",
      "Parâmetro 4 ° Cruyff\n"
     ]
    }
   ],
   "source": [
    "def variosParametros(*parametros):\n",
    "    for n, item in enumerate(parametros):\n",
    "        print(\"Parâmetro\", n+1,\"°\", item)\n",
    "    return\n",
    "variosParametros(\"Messi\",\"Pele\",\"Cr7\",\"Cruyff\")\n"
   ]
  },
  {
   "cell_type": "code",
   "execution_count": 58,
   "metadata": {},
   "outputs": [
    {
     "name": "stdout",
     "output_type": "stream",
     "text": [
      "*=======================*\n",
      "|      CALCULADORA      |\n",
      "|    1 - Somar          |\n",
      "|    2 - Subtrair       |\n",
      "|    3 - Multiplicar    |\n",
      "|    4 - Dividir        |\n",
      "|    0 - Sair           |\n",
      "*=======================*\n",
      "O resultado da Soma é:  30\n",
      "*=======================*\n",
      "|      CALCULADORA      |\n",
      "|    1 - Somar          |\n",
      "|    2 - Subtrair       |\n",
      "|    3 - Multiplicar    |\n",
      "|    4 - Dividir        |\n",
      "|    0 - Sair           |\n",
      "*=======================*\n"
     ]
    }
   ],
   "source": [
    "def soma(n1, n2):\n",
    "    return n1 + n2\n",
    "\n",
    "def subtrai(n1, n2):\n",
    "    return n1 - n2\n",
    "\n",
    "def multiplica(n1, n2):\n",
    "    return n1 * n2\n",
    "\n",
    "def divide(n1, n2):\n",
    "    return n1 / n2\n",
    "\n",
    "while True:\n",
    "    print(\"*=======================*\")\n",
    "    print(\"|      CALCULADORA      |\")\n",
    "    print(\"|    1 - Somar          |\")\n",
    "    print(\"|    2 - Subtrair       |\")\n",
    "    print(\"|    3 - Multiplicar    |\")\n",
    "    print(\"|    4 - Dividir        |\")\n",
    "    print(\"|    0 - Sair           |\")\n",
    "    print(\"*=======================*\")\n",
    "\n",
    "\n",
    "    op = int(input(\"Insira o número que corresponde a operação desejada\"))\n",
    "    if op == 0:\n",
    "        break\n",
    "\n",
    "    n1 = int(input(\"Primeiro Número: \"))\n",
    "    n2 = int(input(\"Segundo Número: \"))\n",
    "\n",
    "    if op== 1:\n",
    "        print(\"O resultado da Soma é: \", soma(n1, n2))\n",
    "    elif op== 2:\n",
    "        print(\"O resultado da Subtração é: \", subtrai(n1,n2))\n",
    "    elif op == 3:\n",
    "        print(\"O resultado da Multiplicação é: \", multiplica(n1,n2))\n",
    "    elif op == 4:\n",
    "        print(\"O resultado da Divisão é: \", divide(n1, n2))\n",
    "    else:\n",
    "        print(\"Invalido\")\n",
    "        break\n",
    "\n",
    "\n",
    "\n",
    "\n",
    "\n",
    "\n",
    "    "
   ]
  }
 ],
 "metadata": {
  "kernelspec": {
   "display_name": "Python 3",
   "language": "python",
   "name": "python3"
  },
  "language_info": {
   "codemirror_mode": {
    "name": "ipython",
    "version": 3
   },
   "file_extension": ".py",
   "mimetype": "text/x-python",
   "name": "python",
   "nbconvert_exporter": "python",
   "pygments_lexer": "ipython3",
   "version": "3.11.9"
  }
 },
 "nbformat": 4,
 "nbformat_minor": 2
}
